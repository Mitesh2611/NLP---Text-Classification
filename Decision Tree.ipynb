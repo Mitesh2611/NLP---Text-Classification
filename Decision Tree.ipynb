{
 "cells": [
  {
   "cell_type": "code",
   "execution_count": 1,
   "metadata": {
    "collapsed": true
   },
   "outputs": [],
   "source": [
    "import random\n",
    "import numpy as np\n",
    "import matplotlib.pyplot as plt\n",
    "from sklearn.model_selection import train_test_split\n",
    "from sklearn.feature_extraction.text import TfidfVectorizer\n",
    "from sklearn.tree import DecisionTreeClassifier\n",
    "import pickle\n",
    "import string\n",
    "from nltk.stem import SnowballStemmer\n",
    "from nltk.corpus import stopwords\n",
    "from sklearn.metrics import accuracy_score,confusion_matrix,classification_report\n",
    "import seaborn as sns"
   ]
  },
  {
   "cell_type": "code",
   "execution_count": 2,
   "metadata": {
    "collapsed": true
   },
   "outputs": [],
   "source": [
    "# read file\n",
    "\n",
    "def read_file(path):\n",
    "    with open(path, \"r\") as f:\n",
    "        return f.read()\n",
    "\n",
    "# load data\n",
    "\n",
    "def load_data():\n",
    "    data_path = \"./data/data.txt\"\n",
    "    all_data = read_file(data_path)\n",
    "\n",
    "    all_lines = all_data.split('\\n')\n",
    "\n",
    "    # extract features and labels from eah line\n",
    "\n",
    "    features = []\n",
    "    labels = []\n",
    "    for line in all_lines:\n",
    "        if line[0:4] == 'spam':\n",
    "            labels.append(1)\n",
    "            features.append(line[5:])\n",
    "            pass\n",
    "        elif line[0:3] == 'ham':\n",
    "            labels.append(0)\n",
    "            features.append(line[4:])\n",
    "            pass\n",
    "        else:\n",
    "            pass\n",
    "\n",
    "    return features, labels"
   ]
  },
  {
   "cell_type": "code",
   "execution_count": 3,
   "metadata": {},
   "outputs": [
    {
     "name": "stdout",
     "output_type": "stream",
     "text": [
      "Total no:of Mails : 5574\n",
      "Total no:of Spam : 747\n",
      "Total no:of Ham : 4827\n"
     ]
    }
   ],
   "source": [
    "features, labels = load_data()\n",
    "print(\"Total no:of Mails : {}\".format(len(labels)))\n",
    "print(\"Total no:of Spam : {}\".format(labels.count(1)))\n",
    "print(\"Total no:of Ham : {}\".format(labels.count(0)))"
   ]
  },
  {
   "cell_type": "code",
   "execution_count": 4,
   "metadata": {
    "collapsed": true
   },
   "outputs": [],
   "source": [
    "features, labels = load_data()\n",
    "features_train, features_test, labels_train, labels_test = train_test_split(features, labels, test_size=0.3, random_state=42)\n",
    "\n",
    "# transform text into frequency\n",
    "\n",
    "vectorizer = TfidfVectorizer(input='content', lowercase=True, stop_words='english')\n",
    "features_train_transformed = vectorizer.fit_transform(features_train)\n",
    "features_test_transformed = vectorizer.transform(features_test)"
   ]
  },
  {
   "cell_type": "code",
   "execution_count": 5,
   "metadata": {},
   "outputs": [
    {
     "name": "stdout",
     "output_type": "stream",
     "text": [
      "Classifier accuray 97.13%\n"
     ]
    }
   ],
   "source": [
    "# machine algo\n",
    "\n",
    "prediction = dict()\n",
    "classifier = DecisionTreeClassifier(min_samples_split=7, random_state=111)\n",
    "classifier.fit(features_train_transformed, labels_train)\n",
    "prediction['DecisionTreeClassifier'] = classifier.predict(features_test_transformed)\n",
    "print(\"Classifier accuray {:.2f}%\".format(classifier.score(features_test_transformed, labels_test)*100))"
   ]
  },
  {
   "cell_type": "code",
   "execution_count": 6,
   "metadata": {},
   "outputs": [
    {
     "name": "stdout",
     "output_type": "stream",
     "text": [
      "Classification Report : \n",
      "              precision    recall  f1-score   support\n",
      "\n",
      "        Ham       0.98      0.99      0.98      1447\n",
      "       Spam       0.93      0.85      0.89       226\n",
      "\n",
      "avg / total       0.97      0.97      0.97      1673\n",
      "\n"
     ]
    }
   ],
   "source": [
    "# Classifier performance evaluation\n",
    "\n",
    "print(\"Classification Report : \\n\", classification_report(labels_test, prediction['DecisionTreeClassifier'], target_names = [\"Ham\", \"Spam\"]))\n",
    "conf_mat = confusion_matrix(labels_test, prediction['DecisionTreeClassifier'])\n",
    "conf_mat_normalized = conf_mat.astype('float') / conf_mat.sum(axis=1)[:, np.newaxis]"
   ]
  },
  {
   "cell_type": "code",
   "execution_count": 7,
   "metadata": {},
   "outputs": [
    {
     "data": {
      "text/plain": [
       "array([[1432,   15],\n",
       "       [  33,  193]], dtype=int64)"
      ]
     },
     "execution_count": 7,
     "metadata": {},
     "output_type": "execute_result"
    }
   ],
   "source": [
    "conf_mat"
   ]
  },
  {
   "cell_type": "code",
   "execution_count": 8,
   "metadata": {},
   "outputs": [
    {
     "data": {
      "text/plain": [
       "array([[ 0.98963372,  0.01036628],\n",
       "       [ 0.1460177 ,  0.8539823 ]])"
      ]
     },
     "execution_count": 8,
     "metadata": {},
     "output_type": "execute_result"
    }
   ],
   "source": [
    "conf_mat_normalized"
   ]
  },
  {
   "cell_type": "code",
   "execution_count": 9,
   "metadata": {},
   "outputs": [
    {
     "name": "stdout",
     "output_type": "stream",
     "text": [
      "Heat Map for Decision Tree\n"
     ]
    },
    {
     "data": {
      "image/png": "[encoded data removed]",
      "text/plain": [
       "<matplotlib.figure.Figure at 0x179477e8b38>"
      ]
     },
     "metadata": {},
     "output_type": "display_data"
    }
   ],
   "source": [
    "print(\"Heat Map for Decision Tree\")\n",
    "sns.heatmap(conf_mat_normalized)\n",
    "plt.ylabel('True label')\n",
    "plt.xlabel('Predicted label')\n",
    "plt.show()"
   ]
  },
  {
   "cell_type": "code",
   "execution_count": 10,
   "metadata": {
    "collapsed": true
   },
   "outputs": [],
   "source": [
    "# use train model for prediction\n",
    "\n",
    "def save(vectorizer, classifier):\n",
    "    pkl_filename = \"dt.pkl\"\n",
    "    with open(pkl_filename, 'wb') as file:\n",
    "        pickle.dump((vectorizer, classifier), file) "
   ]
  },
  {
   "cell_type": "code",
   "execution_count": 11,
   "metadata": {
    "collapsed": true
   },
   "outputs": [],
   "source": [
    "save(vectorizer, classifier)"
   ]
  },
  {
   "cell_type": "code",
   "execution_count": null,
   "metadata": {
    "collapsed": true
   },
   "outputs": [],
   "source": []
  }
 ],
 "metadata": {
  "kernelspec": {
   "display_name": "Python 3",
   "language": "python",
   "name": "python3"
  },
  "language_info": {
   "codemirror_mode": {
    "name": "ipython",
    "version": 3
   },
   "file_extension": ".py",
   "mimetype": "text/x-python",
   "name": "python",
   "nbconvert_exporter": "python",
   "pygments_lexer": "ipython3",
   "version": "3.6.2"
  }
 },
 "nbformat": 4,
 "nbformat_minor": 2
}
