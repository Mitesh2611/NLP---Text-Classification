{
 "cells": [
  {
   "cell_type": "code",
   "execution_count": 1,
   "metadata": {
    "collapsed": true
   },
   "outputs": [],
   "source": [
    "import random\n",
    "from sklearn.model_selection import train_test_split\n",
    "from sklearn.feature_extraction.text import TfidfVectorizer\n",
    "import pickle\n",
    "import string\n",
    "from nltk.corpus import stopwords"
   ]
  },
  {
   "cell_type": "code",
   "execution_count": 2,
   "metadata": {
    "collapsed": true
   },
   "outputs": [],
   "source": [
    "def load(pkl_filename):\n",
    "    with open(pkl_filename, 'rb') as file:\n",
    "        vectorizer, classifier = pickle.load(file)\n",
    "    return vectorizer, classifier"
   ]
  },
  {
   "cell_type": "code",
   "execution_count": 3,
   "metadata": {
    "scrolled": true
   },
   "outputs": [
    {
     "name": "stdout",
     "output_type": "stream",
     "text": [
      "Enter new text : you won free mobile\n",
      "The mail is  Spam\n"
     ]
    }
   ],
   "source": [
    "# load previously saved classifier and vectorizer\n",
    "\n",
    "email_input = input(\"Enter new text : \")\n",
    "vectorizer, classifier = load(\"model.pkl\")\n",
    "email_input_transformed = vectorizer.transform([email_input])\n",
    "prediction = classifier.predict(email_input_transformed)\n",
    "\n",
    "print(\"The mail is \", 'Spam' if prediction else 'ham')"
   ]
  },
  {
   "cell_type": "code",
   "execution_count": null,
   "metadata": {
    "collapsed": true
   },
   "outputs": [],
   "source": []
  }
 ],
 "metadata": {
  "kernelspec": {
   "display_name": "Python 3",
   "language": "python",
   "name": "python3"
  },
  "language_info": {
   "codemirror_mode": {
    "name": "ipython",
    "version": 3
   },
   "file_extension": ".py",
   "mimetype": "text/x-python",
   "name": "python",
   "nbconvert_exporter": "python",
   "pygments_lexer": "ipython3",
   "version": "3.6.2"
  }
 },
 "nbformat": 4,
 "nbformat_minor": 2
}
